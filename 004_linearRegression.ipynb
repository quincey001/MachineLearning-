{
  "nbformat": 4,
  "nbformat_minor": 0,
  "metadata": {
    "colab": {
      "name": "004-linearRegression",
      "provenance": [],
      "authorship_tag": "ABX9TyOw28sFsX5IorxWvC+JLChY",
      "include_colab_link": true
    },
    "kernelspec": {
      "name": "python3",
      "display_name": "Python 3"
    },
    "language_info": {
      "name": "python"
    }
  },
  "cells": [
    {
      "cell_type": "markdown",
      "metadata": {
        "id": "view-in-github",
        "colab_type": "text"
      },
      "source": [
        "<a href=\"https://colab.research.google.com/github/quincey001/MachineLearning-/blob/master/004_linearRegression.ipynb\" target=\"_parent\"><img src=\"https://colab.research.google.com/assets/colab-badge.svg\" alt=\"Open In Colab\"/></a>"
      ]
    },
    {
      "cell_type": "markdown",
      "metadata": {
        "id": "3WeCitQtLClk"
      },
      "source": [
        "## **linear Regression**"
      ]
    },
    {
      "cell_type": "code",
      "metadata": {
        "colab": {
          "base_uri": "https://localhost:8080/"
        },
        "id": "DDmkgOg2KzoP",
        "outputId": "c4bb24af-ccc3-4ca6-fe62-f6fc5a410798"
      },
      "source": [
        "from pandas.core.common import random_state\n",
        "from sklearn.linear_model import LinearRegression as LR\n",
        "from sklearn.model_selection import train_test_split\n",
        "from sklearn.model_selection import cross_val_score\n",
        "from sklearn.datasets import fetch_california_housing as fch\n",
        "import pandas as pd\n",
        "housevalue = fch()\n",
        "# print(housevalue)\n",
        "X = pd.DataFrame(housevalue.data)\n",
        "y = housevalue.target\n",
        "X.shape#标准化\n",
        "y.shape\n",
        "X.columns = housevalue.feature_names\n",
        "X.head()\n",
        "Xtrain, Xtest, Ytrain, Ytest = train_test_split(X,y,test_size = 0.3, random_state = 420)\n",
        "print(Xtrain.shape)\n",
        "print(Xtest.shape)\n",
        "#giving the data right index\n",
        "for i in [Xtrain, Xtest]:\n",
        "  i.index = range(i.shape[0])\n",
        "#model\n",
        "reg = LR(normalize=True, fit_intercept=False).fit(Xtrain,Ytrain)\n",
        "yhat = reg.predict(Xtest)\n",
        "# print(yhat.min())\n",
        "# print(yhat.max())\n",
        "# print(reg.coef_)\n",
        "# print(reg.intercept_)\n",
        "[*zip(Xtrain.columns, reg.coef_)]#匹配函数 - 反映出每一个特征对数据的重要性\n",
        "#evaluation\n",
        "#(1) mean sqaured error\n",
        "from sklearn.metrics import mean_squared_error as MSE\n",
        "print(MSE(yhat, Ytest))\n",
        "Ytest.mean()\n",
        "cross_val_score(reg, X, y, cv=10, scoring=\"neg_mean_squared_error\").mean()\n",
        "# import sklearn\n",
        "# sorted(sklearn.metrics.SCORERS.keys())\n",
        "#(2)mean absolute error\n",
        "cross_val_score(reg, X, y, cv=10, scoring=\"neg_mean_absolute_error\")\n",
        "\n",
        "#(3)R ^2 \n",
        "from sklearn.metrics import r2_score\n",
        "r2_score(Ytest,yhat)\n",
        "print(\"r2_score\",r2_score(Ytest,yhat))\n",
        "r2 = reg.score(Xtest, Ytest)\n",
        "print(\"r2\",r2)"
      ],
      "execution_count": 1,
      "outputs": [
        {
          "output_type": "stream",
          "name": "stderr",
          "text": [
            "Downloading Cal. housing from https://ndownloader.figshare.com/files/5976036 to /root/scikit_learn_data\n"
          ]
        },
        {
          "output_type": "stream",
          "name": "stdout",
          "text": [
            "(14448, 8)\n",
            "(6192, 8)\n",
            "0.6159345169092768\n",
            "r2_score 0.5409991450306524\n",
            "r2 0.5409991450306524\n"
          ]
        }
      ]
    },
    {
      "cell_type": "markdown",
      "metadata": {
        "id": "2C2_tyGELA3F"
      },
      "source": [
        ""
      ]
    }
  ]
}