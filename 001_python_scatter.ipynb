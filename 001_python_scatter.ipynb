{
  "nbformat": 4,
  "nbformat_minor": 0,
  "metadata": {
    "colab": {
      "name": "001-python_scatter.ipynb",
      "provenance": [],
      "collapsed_sections": [],
      "authorship_tag": "ABX9TyMotKXzKO1PODhDjjdPNaFG",
      "include_colab_link": true
    },
    "kernelspec": {
      "name": "python3",
      "display_name": "Python 3"
    },
    "language_info": {
      "name": "python"
    }
  },
  "cells": [
    {
      "cell_type": "markdown",
      "metadata": {
        "id": "view-in-github",
        "colab_type": "text"
      },
      "source": [
        "<a href=\"https://colab.research.google.com/github/quincey001/MachineLearning-/blob/master/001_python_scatter.ipynb\" target=\"_parent\"><img src=\"https://colab.research.google.com/assets/colab-badge.svg\" alt=\"Open In Colab\"/></a>"
      ]
    },
    {
      "cell_type": "markdown",
      "metadata": {
        "id": "xE7g7uyl50ix"
      },
      "source": [
        "correlation graph is to describe or represent the relationship of objects, one object changed with another.(line chart, scatter chart)"
      ]
    },
    {
      "cell_type": "code",
      "metadata": {
        "id": "ZbkR_oEX6gIJ",
        "colab": {
          "base_uri": "https://localhost:8080/",
          "height": 265
        },
        "outputId": "7e699ebd-0774-455f-85c5-5d3750bf79e5"
      },
      "source": [
        "import numpy as np\n",
        "import pandas as pd\n",
        "import matplotlib.pyplot as plt\n",
        "import seaborn as sns\n",
        "\n",
        "x1 = np.random.randn(10, 2)#(row, column)满足正态分布的数\n",
        "x2 = np.array([0,1,1,1,1,0,0,1,0,1])\n",
        "plt.figure(figsize=(8,4))#图像的尺寸，先行再竖\n",
        "plt.scatter(x1[:,0],x1[:,1],s = 50, c = x2, label = \"positive\")# s= size, c= color\n",
        "plt.legend()#装饰图形\n",
        "plt.show()# 一个坐标对应了y里面的一个颜色"
      ],
      "execution_count": null,
      "outputs": [
        {
          "output_type": "display_data",
          "data": {
            "image/png": "[encoded data removed]",
            "text/plain": [
              "<Figure size 576x288 with 1 Axes>"
            ]
          },
          "metadata": {
            "needs_background": "light"
          }
        }
      ]
    },
    {
      "cell_type": "code",
      "metadata": {
        "id": "zSF2rOzS9U1R"
      },
      "source": [
        "x1 = np.random.randn(10, 2)\n",
        "print(x1[:,0])# get the collection of all of rows with first column"
      ],
      "execution_count": null,
      "outputs": []
    },
    {
      "cell_type": "markdown",
      "metadata": {
        "id": "8xYaKZKWDoao"
      },
      "source": [
        "**labeling data**\n",
        "\n",
        "---\n",
        "\n",
        "\n",
        "\n",
        "---\n",
        "\n"
      ]
    },
    {
      "cell_type": "code",
      "metadata": {
        "id": "g-eme7tGI63B",
        "colab": {
          "base_uri": "https://localhost:8080/",
          "height": 282
        },
        "outputId": "2e35e414-50da-4f09-a121-c8f98e07ac72"
      },
      "source": [
        "import numpy as np\n",
        "import pandas as pd\n",
        "import matplotlib.pyplot as plt\n",
        "import seaborn as sns\n",
        "colors = [\"red\",\"yellow\"]\n",
        "lables = [\"zero\",\"one\"]\n",
        "x = np.random.randn(10, 2)#(row, column)\n",
        "y = np.array([0,1,1,1,1,0,0,1,0,1])\n",
        "plt.figure(figsize=(8,4))\n",
        "print(x.shape[1])\n",
        "for i in range(x.shape[1]):#array.shape == (row, column)  array.shape[1] 列\n",
        "  plt.scatter(x[y==i,0],x[y==i,1],s = 50, c = colors[i], label =lables[i])# s= size, c= color\n",
        "plt.legend()#装饰图形\n",
        "plt.show()# 一个坐标对应了y里面的一个颜色"
      ],
      "execution_count": null,
      "outputs": [
        {
          "output_type": "stream",
          "name": "stdout",
          "text": [
            "2\n"
          ]
        },
        {
          "output_type": "display_data",
          "data": {
            "image/png": "[encoded data removed]",
            "text/plain": [
              "<Figure size 576x288 with 1 Axes>"
            ]
          },
          "metadata": {
            "needs_background": "light"
          }
        }
      ]
    },
    {
      "cell_type": "code",
      "metadata": {
        "id": "uWPPtFvmKHqv",
        "colab": {
          "base_uri": "https://localhost:8080/"
        },
        "outputId": "28386f05-ac87-4177-bdb7-1e237b0dbf0c"
      },
      "source": [
        " for i in range(5, 10):#[5,10)\n",
        "   print(i)"
      ],
      "execution_count": null,
      "outputs": [
        {
          "output_type": "stream",
          "name": "stdout",
          "text": [
            "5\n",
            "6\n",
            "7\n",
            "8\n",
            "9\n"
          ]
        }
      ]
    },
    {
      "cell_type": "code",
      "metadata": {
        "id": "artBVxyyPijP"
      },
      "source": [
        "import numpy as np\n",
        "\n",
        "array = ([2],[2],[2],[2])\n",
        "arr = np.arange(6).reshape(-1,1)# (6,1) -1 is unspecified value\n",
        "a = np.arange(6).reshape(3,2)\n",
        "print(a)\n",
        "print(arr)\n",
        "print(arr.shape)\n",
        "print(arr.shape[0])#行数\n",
        "print(arr.shape[1])#列数"
      ],
      "execution_count": null,
      "outputs": []
    },
    {
      "cell_type": "markdown",
      "metadata": {
        "id": "PCRpaYNt8mz7"
      },
      "source": [
        "split array"
      ]
    },
    {
      "cell_type": "code",
      "metadata": {
        "id": "zEclVDoE4gZj"
      },
      "source": [
        "import numpy as np\n",
        "a = np.array([[1,2,3,4],[5,6,7,8],[9,10,11,12],[13,14,15,16]])\n",
        " \n",
        "print(a[1,2])#第一行第二列的数 （行，列）\n",
        "print(a[1,:])#第一行所有的列\n",
        "print(a[:,1])#第一列所有的行\n",
        "print(a[1:3,1:])#2.3行 从1列开始所有的列\n",
        "print(a[::3,::2])#行跳三个，列跳2个"
      ],
      "execution_count": null,
      "outputs": []
    },
    {
      "cell_type": "markdown",
      "metadata": {
        "id": "g7-2EfpV9OID"
      },
      "source": [
        "**pytorch**"
      ]
    },
    {
      "cell_type": "code",
      "metadata": {
        "id": "Lr_T6Sgw8ukz"
      },
      "source": [
        "import torch\n",
        "x = torch.arange(12)\n",
        "print(x)\n",
        "print(x.shape)\n",
        "print(x.numel)\n",
        "X = x.reshape(3,4)\n",
        "print(X)"
      ],
      "execution_count": null,
      "outputs": []
    },
    {
      "cell_type": "code",
      "metadata": {
        "id": "EjtEouRx9lgj"
      },
      "source": [
        "import torch \n",
        "y = torch.zeros((2,3,4))#2个三行四列的数组\n",
        "print(y)"
      ],
      "execution_count": null,
      "outputs": []
    },
    {
      "cell_type": "code",
      "metadata": {
        "colab": {
          "base_uri": "https://localhost:8080/",
          "height": 130
        },
        "id": "dm462vg_-YaT",
        "outputId": "0ce89024-64d6-4aed-8f9a-d55da6e4c0b3"
      },
      "source": [
        "import torch \n",
        "X = torch.arange(12, dtype=torch.float32).reshape((3,4))\n",
        "Y = torch.tensor([[2.0,1,4,3],[1,2,3,4],[4,3,2,1]])\n",
        "torch.cat((X,Y) dim=0)\n",
        "torch.cat((X,Y),dim = 1)"
      ],
      "execution_count": null,
      "outputs": [
        {
          "output_type": "error",
          "ename": "SyntaxError",
          "evalue": "ignored",
          "traceback": [
            "\u001b[0;36m  File \u001b[0;32m\"<ipython-input-21-84e2b130a148>\"\u001b[0;36m, line \u001b[0;32m4\u001b[0m\n\u001b[0;31m    torch.cat((X,Y) dim=0)\u001b[0m\n\u001b[0m                      ^\u001b[0m\n\u001b[0;31mSyntaxError\u001b[0m\u001b[0;31m:\u001b[0m invalid syntax\n"
          ]
        }
      ]
    },
    {
      "cell_type": "code",
      "metadata": {
        "colab": {
          "base_uri": "https://localhost:8080/"
        },
        "id": "sa1QxnAwAUPL",
        "outputId": "aa8ad1f9-2d93-4a08-8feb-74d388237631"
      },
      "source": [
        "import torch \n",
        "X = torch.arange(3, dtype=torch.float32).reshape((3,1))\n",
        "Y = torch.arange(4, dtype=torch.float32).reshape((1,4))\n",
        "print(X+Y)#广播机制，把x 变成[3,4] 把y变成[3,4]再相加\n",
        " "
      ],
      "execution_count": null,
      "outputs": [
        {
          "output_type": "stream",
          "name": "stdout",
          "text": [
            "tensor([[0., 1., 2., 3.],\n",
            "        [1., 2., 3., 4.],\n",
            "        [2., 3., 4., 5.]])\n"
          ]
        }
      ]
    }
  ]
}