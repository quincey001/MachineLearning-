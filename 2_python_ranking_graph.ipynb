{
  "nbformat": 4,
  "nbformat_minor": 0,
  "metadata": {
    "colab": {
      "name": "2-python_ranking graph",
      "provenance": [],
      "authorship_tag": "ABX9TyMlnxM5ulcKyr40RrlZODwp",
      "include_colab_link": true
    },
    "kernelspec": {
      "name": "python3",
      "display_name": "Python 3"
    },
    "language_info": {
      "name": "python"
    }
  },
  "cells": [
    {
      "cell_type": "markdown",
      "metadata": {
        "id": "view-in-github",
        "colab_type": "text"
      },
      "source": [
        "<a href=\"https://colab.research.google.com/github/quincey001/MachineLearning-/blob/master/2_python_ranking_graph.ipynb\" target=\"_parent\"><img src=\"https://colab.research.google.com/assets/colab-badge.svg\" alt=\"Open In Colab\"/></a>"
      ]
    },
    {
      "cell_type": "markdown",
      "metadata": {
        "id": "aVnVvmxMSJ3X"
      },
      "source": [
        "# **dumbbell map and bar graph and slope map to describe the changing and ranking of objects**"
      ]
    },
    {
      "cell_type": "code",
      "metadata": {
        "id": "ZR781bK-kQMm"
      },
      "source": [
        "import numpy as np\n",
        "import matplotlib as mpl\n",
        "import pandas as pd\n",
        "import matplotlib.pyplot as plt\n",
        "import seaborn as sns\n",
        "x = [1,2,3,4,5]\n",
        "y = [14]"
      ],
      "execution_count": 1,
      "outputs": []
    },
    {
      "cell_type": "code",
      "metadata": {
        "id": "WFRjsa0BSe7_"
      },
      "source": [
        ""
      ],
      "execution_count": null,
      "outputs": []
    }
  ]
}